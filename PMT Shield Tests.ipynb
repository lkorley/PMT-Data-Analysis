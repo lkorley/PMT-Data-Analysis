{
 "cells": [
  {
   "cell_type": "code",
   "execution_count": 1,
   "metadata": {},
   "outputs": [],
   "source": [
    "#Michael Williams michaelwilliams@brandeis.edu\n",
    "#This is a simple script to read in data from an excel file and then fit it with a gaussian \n",
    "#The data from the barrell PMT tests is if most interest here\n",
    "#Ideally, this will be replaced or superceeded with code that takes data directly from the generated root files"
   ]
  },
  {
   "cell_type": "code",
   "execution_count": 22,
   "metadata": {},
   "outputs": [],
   "source": [
    "import numpy as np\n",
    "import pandas as pd\n",
    "import math as m\n",
    "import matplotlib.pyplot as plt\n",
    "from scipy import optimize"
   ]
  },
  {
   "cell_type": "code",
   "execution_count": 45,
   "metadata": {},
   "outputs": [
    {
     "name": "stdout",
     "output_type": "stream",
     "text": [
      "    field  average without shield  error without shield  average with shield  \\\n",
      "0   -5.00                   200.6             31.670175                135.4   \n",
      "1   -4.50                   199.2             31.559468                159.4   \n",
      "2   -4.00                   213.2             32.649655                158.6   \n",
      "3   -3.50                   232.2             34.073450                137.6   \n",
      "4   -3.00                   281.8             37.536649                184.0   \n",
      "5   -2.50                   309.6             39.344631                185.5   \n",
      "6   -2.00                   382.4             43.726422                198.0   \n",
      "7   -1.50                   549.6             52.421370                277.4   \n",
      "8   -1.00                   870.2             65.962110                392.2   \n",
      "9   -0.75                  1088.6             73.776690                446.4   \n",
      "10  -0.50                  1254.0             79.183332                528.0   \n",
      "11  -0.25                  1337.2             81.767964                656.0   \n",
      "12   0.00                  1309.4             80.913534                617.6   \n",
      "13   0.25                  1426.6             84.457090                657.4   \n",
      "14   0.50                  1478.0             85.965109                635.6   \n",
      "15   0.75                  1470.4             85.743804                614.2   \n",
      "16   1.00                  1392.2             83.432608                585.0   \n",
      "17   1.50                  1383.6             83.174515                426.6   \n",
      "18   2.00                   964.2             69.433421                282.0   \n",
      "19   2.50                   616.4             55.515764                188.4   \n",
      "20   3.00                   441.4             46.978719                186.8   \n",
      "21   3.50                   327.6             40.472213                150.0   \n",
      "22   4.00                   265.6             36.441734                151.4   \n",
      "23   4.50                   211.0             32.480764                137.8   \n",
      "24   5.00                   198.2             31.480152                146.6   \n",
      "\n",
      "    error with shield  Unnamed: 5  Unnamed: 6  Unnamed: 7  Unnamed: 8  \\\n",
      "0               26.02         NaN         NaN         NaN         NaN   \n",
      "1               28.23         NaN         NaN         NaN         NaN   \n",
      "2               28.16         NaN         NaN         NaN         NaN   \n",
      "3               26.23   -5.000000   -4.500000   -4.000000    -3.50000   \n",
      "4               30.33   31.670175   31.559468   32.649655    34.07345   \n",
      "5               27.24  135.400000  159.400000  158.600000   137.60000   \n",
      "6               31.45   26.020000   28.230000   28.160000    26.23000   \n",
      "7               37.24         NaN         NaN         NaN         NaN   \n",
      "8               44.28         NaN         NaN         NaN         NaN   \n",
      "9               47.24         NaN         NaN         NaN         NaN   \n",
      "10              51.38         NaN         NaN         NaN         NaN   \n",
      "11              57.27         NaN         NaN         NaN         NaN   \n",
      "12              55.57         NaN         NaN         NaN         NaN   \n",
      "13              57.33         NaN         NaN         NaN         NaN   \n",
      "14              56.37         NaN         NaN         NaN         NaN   \n",
      "15              55.42         NaN         NaN         NaN         NaN   \n",
      "16              54.08         NaN         NaN         NaN         NaN   \n",
      "17              46.18         NaN         NaN         NaN         NaN   \n",
      "18              37.55         NaN         NaN         NaN         NaN   \n",
      "19              30.69         NaN         NaN         NaN         NaN   \n",
      "20              30.56         NaN         NaN         NaN         NaN   \n",
      "21              27.39         NaN         NaN         NaN         NaN   \n",
      "22              27.51         NaN         NaN         NaN         NaN   \n",
      "23              26.25         NaN         NaN         NaN         NaN   \n",
      "24              27.07         NaN         NaN         NaN         NaN   \n",
      "\n",
      "    Unnamed: 9  ...  Unnamed: 21  Unnamed: 22  Unnamed: 23  Unnamed: 24  \\\n",
      "0          NaN  ...          NaN          NaN          NaN          NaN   \n",
      "1          NaN  ...          NaN          NaN          NaN          NaN   \n",
      "2          NaN  ...          NaN          NaN          NaN          NaN   \n",
      "3    -3.000000  ...     1.000000     1.500000     2.000000     2.500000   \n",
      "4    37.536649  ...    83.432608    83.174515    69.433421    55.515764   \n",
      "5   184.000000  ...   585.000000   426.600000   282.000000   188.400000   \n",
      "6    30.330000  ...    54.080000    46.180000    37.550000    30.690000   \n",
      "7          NaN  ...          NaN          NaN          NaN          NaN   \n",
      "8          NaN  ...          NaN          NaN          NaN          NaN   \n",
      "9          NaN  ...          NaN          NaN          NaN          NaN   \n",
      "10         NaN  ...          NaN          NaN          NaN          NaN   \n",
      "11         NaN  ...          NaN          NaN          NaN          NaN   \n",
      "12         NaN  ...          NaN          NaN          NaN          NaN   \n",
      "13         NaN  ...          NaN          NaN          NaN          NaN   \n",
      "14         NaN  ...          NaN          NaN          NaN          NaN   \n",
      "15         NaN  ...          NaN          NaN          NaN          NaN   \n",
      "16         NaN  ...          NaN          NaN          NaN          NaN   \n",
      "17         NaN  ...          NaN          NaN          NaN          NaN   \n",
      "18         NaN  ...          NaN          NaN          NaN          NaN   \n",
      "19         NaN  ...          NaN          NaN          NaN          NaN   \n",
      "20         NaN  ...          NaN          NaN          NaN          NaN   \n",
      "21         NaN  ...          NaN          NaN          NaN          NaN   \n",
      "22         NaN  ...          NaN          NaN          NaN          NaN   \n",
      "23         NaN  ...          NaN          NaN          NaN          NaN   \n",
      "24         NaN  ...          NaN          NaN          NaN          NaN   \n",
      "\n",
      "    Unnamed: 25  Unnamed: 26  Unnamed: 27  Unnamed: 28  Unnamed: 29  \\\n",
      "0           NaN          NaN          NaN          NaN          NaN   \n",
      "1           NaN          NaN          NaN          NaN          NaN   \n",
      "2           NaN          NaN          NaN          NaN          NaN   \n",
      "3      3.000000     3.500000     4.000000     4.500000     5.000000   \n",
      "4     46.978719    40.472213    36.441734    32.480764    31.480152   \n",
      "5    186.800000   150.000000   151.400000   137.800000   146.600000   \n",
      "6     30.560000    27.390000    27.510000    26.250000    27.070000   \n",
      "7           NaN          NaN          NaN          NaN          NaN   \n",
      "8           NaN          NaN          NaN          NaN          NaN   \n",
      "9           NaN          NaN          NaN          NaN          NaN   \n",
      "10          NaN          NaN          NaN          NaN          NaN   \n",
      "11          NaN          NaN          NaN          NaN          NaN   \n",
      "12          NaN          NaN          NaN          NaN          NaN   \n",
      "13          NaN          NaN          NaN          NaN          NaN   \n",
      "14          NaN          NaN          NaN          NaN          NaN   \n",
      "15          NaN          NaN          NaN          NaN          NaN   \n",
      "16          NaN          NaN          NaN          NaN          NaN   \n",
      "17          NaN          NaN          NaN          NaN          NaN   \n",
      "18          NaN          NaN          NaN          NaN          NaN   \n",
      "19          NaN          NaN          NaN          NaN          NaN   \n",
      "20          NaN          NaN          NaN          NaN          NaN   \n",
      "21          NaN          NaN          NaN          NaN          NaN   \n",
      "22          NaN          NaN          NaN          NaN          NaN   \n",
      "23          NaN          NaN          NaN          NaN          NaN   \n",
      "24          NaN          NaN          NaN          NaN          NaN   \n",
      "\n",
      "    Unnamed: 30  \n",
      "0           NaN  \n",
      "1           NaN  \n",
      "2           NaN  \n",
      "3           NaN  \n",
      "4     29.681644  \n",
      "5           NaN  \n",
      "6           NaN  \n",
      "7           NaN  \n",
      "8           NaN  \n",
      "9           NaN  \n",
      "10          NaN  \n",
      "11          NaN  \n",
      "12          NaN  \n",
      "13          NaN  \n",
      "14          NaN  \n",
      "15          NaN  \n",
      "16          NaN  \n",
      "17          NaN  \n",
      "18          NaN  \n",
      "19          NaN  \n",
      "20          NaN  \n",
      "21          NaN  \n",
      "22          NaN  \n",
      "23          NaN  \n",
      "24          NaN  \n",
      "\n",
      "[25 rows x 31 columns]\n"
     ]
    }
   ],
   "source": [
    "#Reading in CSV and creating data\n",
    "PMT = pd.read_csv('/home/mrw7816/Downloads/Data/Test1.csv') #reads in csv file\n",
    "print (PMT) #Shows tht file\n",
    "X_without = PMT['field'] #Sets X for no sheild\n",
    "Y_without = PMT['average without shield'] #Sets y for no shield\n",
    "error_without = PMT['error without shield']\n",
    "\n",
    "Y_with = PMT['average with shield']\n",
    "error_with = PMT['error with shield']"
   ]
  },
  {
   "cell_type": "code",
   "execution_count": 64,
   "metadata": {},
   "outputs": [
    {
     "name": "stdout",
     "output_type": "stream",
     "text": [
      "[1.44977466e+03 5.68648146e-01 5.99308375e-01]\n",
      "[5.92250899e+02 2.84328330e-01 6.48348065e-01]\n"
     ]
    }
   ],
   "source": [
    "#Fitting\n",
    "def gaussian(x,amp,mean,stdev): #making the function\n",
    "    return amp * np.exp(-((x-mean)/4 / stdev)**2)\n",
    "popt,_ = optimize.curve_fit(gaussian,X_without,Y_without) #these two carry out the fitting\n",
    "tmp,_ = optimize.curve_fit(gaussian,X_without,Y_with)\n",
    "print(popt) #these two lines print out the parameters\n",
    "print(tmp)"
   ]
  },
  {
   "cell_type": "code",
   "execution_count": 98,
   "metadata": {},
   "outputs": [
    {
     "data": {
      "text/plain": [
       "Text(2.5, 1300, 'mean_with=.284')"
      ]
     },
     "execution_count": 98,
     "metadata": {},
     "output_type": "execute_result"
    },
    {
     "data": {
      "image/png": "[encoded data removed]",
      "text/plain": [
       "<Figure size 432x288 with 1 Axes>"
      ]
     },
     "metadata": {
      "needs_background": "light"
     },
     "output_type": "display_data"
    }
   ],
   "source": [
    "#Plotting\n",
    "plt.errorbar(X_without,Y_without,yerr=error_without,linestyle=\"None\",fmt='o') #no shield\n",
    "plt.errorbar(X_without,Y_with,yerr=error_with, linestyle=\"None\",fmt='o') #shield\n",
    "plt.plot(X_without,gaussian(X_without, *popt)) #plot fit for no shield\n",
    "plt.plot(X_without,gaussian(X_without, *tmp)) #plot fit for shield\n",
    "plt.title('PMT Shield Tests')\n",
    "plt.xlabel('Field (gauss)')\n",
    "plt.ylabel('Dark Rate (Hz)')\n",
    "plt.legend(['average without shield','average with shield'], loc = 'upper left')\n",
    "plt.text(2,1500,'mean_without=.569')\n",
    "plt.text(2.5,1300,'mean_with=.284')"
   ]
  },
  {
   "cell_type": "code",
   "execution_count": null,
   "metadata": {},
   "outputs": [],
   "source": []
  }
 ],
 "metadata": {
  "kernelspec": {
   "display_name": "Python 3",
   "language": "python",
   "name": "python3"
  },
  "language_info": {
   "codemirror_mode": {
    "name": "ipython",
    "version": 3
   },
   "file_extension": ".py",
   "mimetype": "text/x-python",
   "name": "python",
   "nbconvert_exporter": "python",
   "pygments_lexer": "ipython3",
   "version": "3.7.3"
  }
 },
 "nbformat": 4,
 "nbformat_minor": 2
}
