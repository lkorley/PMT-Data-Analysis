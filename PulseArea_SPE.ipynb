{
 "cells": [
  {
   "cell_type": "code",
   "execution_count": 1,
   "metadata": {},
   "outputs": [
    {
     "data": {
      "application/javascript": [
       "require(['codemirror/mode/clike/clike'], function(Clike) { console.log('ROOTaaS - C++ CodeMirror module loaded'); });"
      ]
     },
     "metadata": {},
     "output_type": "display_data"
    },
    {
     "data": {
      "application/javascript": [
       "IPython.CodeCell.config_defaults.highlight_modes['magic_text/x-c++src'] = {'reg':[/^%%cpp/]};"
      ]
     },
     "metadata": {},
     "output_type": "display_data"
    },
    {
     "name": "stdout",
     "output_type": "stream",
     "text": [
      "Welcome to ROOTaaS 6.06/06\n"
     ]
    }
   ],
   "source": [
    "import ROOT as r\n",
    "import copy\n",
    "import math\n",
    "import operator\n",
    "import os\n",
    "\n",
    "r.gStyle.SetPalette(1)\n",
    "r.gStyle.SetOptStat(0)"
   ]
  },
  {
   "cell_type": "code",
   "execution_count": 4,
   "metadata": {},
   "outputs": [],
   "source": [
    "f = r.TFile(\"/global/homes/m/mrw7816/ALPACAExample/run/odanalysis/odanalysisAnalysis.root\")"
   ]
  },
  {
   "cell_type": "code",
   "execution_count": 5,
   "metadata": {},
   "outputs": [],
   "source": [
    "def get_histo(file, histoname):\n",
    "    histo=file.Get(histoname)\n",
    "    return copy.deepcopy(histo)\n",
    "\n",
    "def GetKeyNames( self, dir = \"\" ):\n",
    "        self.cd(dir)\n",
    "        return [key.GetName() for key in r.gDirectory.GetListOfKeys()]\n",
    "\n",
    "r.TFile.GetKeyNames = GetKeyNames\n",
    "keyList = f.GetKeyNames('OD')\n",
    "#print \"\\nKeys in file:\", keyList"
   ]
  },
  {
   "cell_type": "code",
   "execution_count": 8,
   "metadata": {},
   "outputs": [],
   "source": [
    "histList=[]\n",
    "calibList=[]\n",
    "for elem in keyList: \n",
    "    if 'calib' in elem:\n",
    "        calibList.append(elem)\n",
    "    else: \n",
    "        histList.append(elem)\n",
    "#print(histList)\n",
    "#print(calibList)\n",
    "\n",
    "calibChPulseArea=[]\n",
    "calibChPeakTime=[]\n",
    "calibChAreaVSPeak=[]\n",
    "for elem in calibList: \n",
    "    if 'pulseArea' in elem: calibChPulseArea.append(elem)\n",
    "    elif 'peakAmp' in elem: calibChPeakTime.append(elem)\n",
    "    elif '_vs_' in elem: calibChAreaVSPeak.append(elem)\n",
    "#print(calibList)\n",
    "#print(calibChPulseArea)\n",
    "#print(calibChPeakTime)\n",
    "#print(calibChAreaVSPeak)\n",
    "\n",
    "#calibChPulseArea=calibChPulseArea[0:6]\n",
    "#calibChPeakTime=calibChPeakTime[0:6]\n",
    "#calibChAreaVSPeak=calibChAreaVSPeak[0:6]\n",
    "#histList=histList[0:6]"
   ]
  },
  {
   "cell_type": "code",
   "execution_count": null,
   "metadata": {},
   "outputs": [],
   "source": [
    "fitfunc = r.TF1('fitFunc','gaus(2)',0,3)\n",
    "href.fit('fitFunc')\n"
   ]
  }
 ],
 "metadata": {
  "kernelspec": {
   "display_name": "PyROOT",
   "language": "python",
   "name": "pyroot"
  },
  "language_info": {
   "codemirror_mode": {
    "name": "ipython",
    "version": 2
   },
   "file_extension": ".py",
   "mimetype": "text/x-python",
   "name": "python",
   "nbconvert_exporter": "python",
   "pygments_lexer": "ipython2",
   "version": "2.7.12"
  }
 },
 "nbformat": 4,
 "nbformat_minor": 2
}
